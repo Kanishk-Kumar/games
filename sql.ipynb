{
 "cells": [
  {
   "cell_type": "markdown",
   "metadata": {},
   "source": [
    "# SQL"
   ]
  },
  {
   "cell_type": "code",
   "execution_count": null,
   "metadata": {
    "vscode": {
     "languageId": "sql"
    }
   },
   "outputs": [],
   "source": [
    "SELECT\n",
    "    employee_name\n",
    "FROM\n",
    "    employees\n",
    "WHERE\n",
    "    salary > (\n",
    "        SELECT\n",
    "            AVG(salary)\n",
    "        FROM\n",
    "            employees AS avg_salaries\n",
    "        WHERE\n",
    "            avg_salaries.department_id = employees.department_id\n",
    "    );"
   ]
  },
  {
   "cell_type": "code",
   "execution_count": null,
   "metadata": {
    "vscode": {
     "languageId": "sql"
    }
   },
   "outputs": [],
   "source": [
    "SELECT\n",
    "    region\n",
    "FROM\n",
    "    region\n",
    "WHERE\n",
    "    date >= CURDATE() - INTERVAL 28 DAY\n",
    "GROUP BY\n",
    "    region\n",
    "ORDER BY\n",
    "    SUM(revenue) DESC\n",
    "LIMIT\n",
    "    1 OFFSET 4;"
   ]
  }
 ],
 "metadata": {
  "kernelspec": {
   "display_name": "myenv",
   "language": "python",
   "name": "python3"
  },
  "language_info": {
   "codemirror_mode": {
    "name": "ipython",
    "version": 3
   },
   "file_extension": ".py",
   "mimetype": "text/x-python",
   "name": "python",
   "nbconvert_exporter": "python",
   "pygments_lexer": "ipython3",
   "version": "3.9.15"
  }
 },
 "nbformat": 4,
 "nbformat_minor": 2
}
