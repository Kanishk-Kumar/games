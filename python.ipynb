{
 "cells": [
  {
   "cell_type": "markdown",
   "metadata": {},
   "source": [
    "# LRU Cache"
   ]
  },
  {
   "cell_type": "code",
   "execution_count": null,
   "metadata": {},
   "outputs": [],
   "source": [
    "class Node:\n",
    "    def __init__(self, key, val):\n",
    "        self.key, self.val = key, val\n",
    "        self.prev = self.next = None\n",
    "\n",
    "\n",
    "class LRUCache:\n",
    "    def __init__(self, capacity: int):\n",
    "        self.cap = capacity\n",
    "        self.cache = {}  # map key to node\n",
    "\n",
    "        self.left, self.right = Node(0, 0), Node(0, 0)\n",
    "        self.left.next, self.right.prev = self.right, self.left\n",
    "\n",
    "    # remove node from list\n",
    "    def remove(self, node):\n",
    "        prev, nxt = node.prev, node.next\n",
    "        prev.next, nxt.prev = nxt, prev\n",
    "\n",
    "    # insert node at right\n",
    "    def insert(self, node):\n",
    "        prev, nxt = self.right.prev, self.right\n",
    "        prev.next = nxt.prev = node\n",
    "        node.next, node.prev = nxt, prev\n",
    "\n",
    "    def get(self, key: int) -> int:\n",
    "        if key in self.cache:\n",
    "            self.remove(self.cache[key])\n",
    "            self.insert(self.cache[key])\n",
    "            return self.cache[key].val\n",
    "        return -1\n",
    "\n",
    "    def put(self, key: int, value: int) -> None:\n",
    "        if key in self.cache:\n",
    "            self.remove(self.cache[key])\n",
    "        self.cache[key] = Node(key, value)\n",
    "        self.insert(self.cache[key])\n",
    "\n",
    "        if len(self.cache) > self.cap:\n",
    "            # remove from the list and delete the LRU from hashmap\n",
    "            lru = self.left.next\n",
    "            self.remove(lru)\n",
    "            del self.cache[lru.key]"
   ]
  },
  {
   "cell_type": "code",
   "execution_count": null,
   "metadata": {},
   "outputs": [],
   "source": [
    "lst1 = [\"LRUCache\", \"put\", \"put\", \"get\", \"put\", \"get\", \"put\", \"get\", \"get\", \"get\"]\n",
    "lst2 = [[2], [1, 1], [2, 2], [1], [3, 3], [2], [4, 4], [1], [3], [4]]\n",
    "\n",
    "for i, j in zip(lst1, lst2):\n",
    "    print(i, j)"
   ]
  },
  {
   "cell_type": "code",
   "execution_count": null,
   "metadata": {},
   "outputs": [],
   "source": [
    "machine = LRUCache(2)\n",
    "print(\"machine.put(1, 1)\")\n",
    "print(machine.put(1, 1))\n",
    "print(\"machine.put(2, 2)\")\n",
    "print(machine.put(2, 2))\n",
    "print(\"machine.get(1)\")\n",
    "print(machine.get(1))\n",
    "print(\"machine.put(3, 3)\")\n",
    "print(machine.put(3, 3))\n",
    "print(\"machine.get(1)\")\n",
    "print(machine.get(1))\n",
    "print(\"machine.get(2)\")\n",
    "print(machine.get(2))\n",
    "print(\"machine.put(4, 4)\")\n",
    "print(machine.put(4, 4))\n",
    "print(\"machine.get(1)\")\n",
    "print(machine.get(1))\n",
    "print(\"machine.get(3)\")\n",
    "print(machine.get(3))\n",
    "print(\"machine.get(4)\")\n",
    "print(machine.get(4))"
   ]
  },
  {
   "cell_type": "code",
   "execution_count": null,
   "metadata": {},
   "outputs": [],
   "source": [
    "machine = LRUCache(2)\n",
    "print(\"machine.put(1, 1)\")\n",
    "print(machine.put(1, 1))\n",
    "print(\"machine.put(2, 2)\")\n",
    "print(machine.put(2, 2))\n",
    "print(\"machine.get(2)\")\n",
    "print(machine.get(2))\n",
    "print(\"machine.put(3, 3)\")\n",
    "print(machine.put(3, 3))\n",
    "print(\"machine.get(1)\")\n",
    "print(machine.get(1))\n",
    "print(\"machine.get(2)\")\n",
    "print(machine.get(2))\n",
    "print(\"machine.put(4, 4)\")\n",
    "print(machine.put(4, 4))\n",
    "print(\"machine.get(1)\")\n",
    "print(machine.get(1))\n",
    "print(\"machine.get(3)\")\n",
    "print(machine.get(3))\n",
    "print(\"machine.get(4)\")\n",
    "print(machine.get(4))"
   ]
  },
  {
   "cell_type": "markdown",
   "metadata": {},
   "source": [
    "# Least Common Subsequence"
   ]
  },
  {
   "cell_type": "code",
   "execution_count": null,
   "metadata": {},
   "outputs": [],
   "source": [
    "def longest_common_subsequence(str1, str2):\n",
    "    m, n = len(str1), len(str2)\n",
    "    dp = [[0] * (m + 1) for _ in range(n + 1)]\n",
    "    for i in dp:\n",
    "        print(i)\n",
    "    print(\"\")\n",
    "    for i in range(1, m + 1):\n",
    "        for j in range(1, n + 1):\n",
    "            print(\"      \" + \"  \".join(list(str2)))\n",
    "            if str1[i - 1] == str2[j - 1]:\n",
    "                dp[i][j] = dp[i - 1][j - 1] + 1\n",
    "            else:\n",
    "                dp[i][j] = max(dp[i - 1][j], dp[i][j - 1])\n",
    "            for R in range(len(dp)):\n",
    "                if R != 0:\n",
    "                    print(str(str1[R - 1]) + \" \" + str(dp[R]))\n",
    "                else:\n",
    "                    print(\" \" + \" \" + str(dp[R]))\n",
    "            print(\"\")\n",
    "    i, j = m, n\n",
    "    lcs = []\n",
    "\n",
    "    while i > 0 and j > 0:\n",
    "        if str1[i - 1] == str2[j - 1]:\n",
    "            lcs.append(str1[i - 1])\n",
    "            i -= 1\n",
    "            j -= 1\n",
    "        elif dp[i - 1][j] > dp[i][j - 1]:\n",
    "            print(\"Large:\" + str(dp[i - 1][j]))\n",
    "            i -= 1\n",
    "        else:\n",
    "            print(\"Small: \" + str(dp[i][j - 1]))\n",
    "            j -= 1\n",
    "\n",
    "    return \"\".join(reversed(lcs))\n",
    "\n",
    "\n",
    "string1 = \"TXMJYAUZ\"\n",
    "string2 = \"TMZJAWXU\"\n",
    "\n",
    "longest_common_subsequence(string1, string2)"
   ]
  },
  {
   "cell_type": "code",
   "execution_count": null,
   "metadata": {},
   "outputs": [],
   "source": [
    "def longest_common_subsequence(str1, str2):\n",
    "    \n",
    "    m, n = len(str1), len(str2)\n",
    "    dp = [[0] * (n + 1) for _ in range(m + 1)]\n",
    "\n",
    "    for i in range(1, m + 1):\n",
    "        for j in range(1, n + 1):\n",
    "            if str1[i - 1] == str2[j - 1]:\n",
    "                dp[i][j] = dp[i - 1][j - 1] + 1\n",
    "            else:\n",
    "                dp[i][j] = max(dp[i - 1][j], dp[i][j - 1])\n",
    "\n",
    "    i, j = m, n\n",
    "    lcs = []\n",
    "\n",
    "    while i > 0 and j > 0:\n",
    "        if str1[i - 1] == str2[j - 1]:\n",
    "            lcs.append(str1[i - 1])\n",
    "            i -= 1\n",
    "            j -= 1\n",
    "        elif dp[i - 1][j] > dp[i][j - 1]:\n",
    "            i -= 1\n",
    "        else:\n",
    "            j -= 1\n",
    "    return \"\".join(reversed(lcs))\n",
    "\n",
    "\n",
    "string1 = \"TXMJYAUZ\"\n",
    "string2 = \"TMZJAWXU\"\n",
    "\n",
    "longest_common_subsequence(string1, string2)"
   ]
  },
  {
   "cell_type": "code",
   "execution_count": null,
   "metadata": {
    "vscode": {
     "languageId": "sql"
    }
   },
   "outputs": [],
   "source": [
    "SELECT\n",
    "    employee_name\n",
    "FROM\n",
    "    employees\n",
    "WHERE\n",
    "    salary > (\n",
    "        SELECT\n",
    "            AVG(salary)\n",
    "        FROM\n",
    "            employees AS avg_salaries\n",
    "        WHERE\n",
    "            avg_salaries.department_id = employees.department_id\n",
    "    );"
   ]
  },
  {
   "cell_type": "code",
   "execution_count": null,
   "metadata": {
    "vscode": {
     "languageId": "sql"
    }
   },
   "outputs": [],
   "source": [
    "SELECT\n",
    "    region\n",
    "FROM\n",
    "    region\n",
    "WHERE\n",
    "    date >= CURDATE() - INTERVAL 28 DAY\n",
    "GROUP BY\n",
    "    region\n",
    "ORDER BY\n",
    "    SUM(revenue) DESC\n",
    "LIMIT\n",
    "    1 OFFSET 4;"
   ]
  },
  {
   "cell_type": "markdown",
   "metadata": {},
   "source": [
    "# Two Sum"
   ]
  },
  {
   "cell_type": "code",
   "execution_count": null,
   "metadata": {},
   "outputs": [],
   "source": [
    "class Solution:\n",
    "    def twoSum(self, nums: list[int], target: int) -> list[int]:\n",
    "        prevmap = {}\n",
    "        for i, j in enumerate(nums):\n",
    "            diff = target - j\n",
    "            if diff in prevmap:\n",
    "                print(f\"{diff} in {prevmap}\")\n",
    "                return [prevmap[diff], i]\n",
    "            prevmap[j] = i\n",
    "            print(prevmap)\n",
    "\n",
    "\n",
    "sol = Solution()\n",
    "sol.twoSum([2,7,11,15], 9)"
   ]
  },
  {
   "cell_type": "markdown",
   "metadata": {},
   "source": [
    "# Rough"
   ]
  },
  {
   "cell_type": "code",
   "execution_count": null,
   "metadata": {},
   "outputs": [],
   "source": []
  }
 ],
 "metadata": {
  "kernelspec": {
   "display_name": "myenv",
   "language": "python",
   "name": "python3"
  },
  "language_info": {
   "codemirror_mode": {
    "name": "ipython",
    "version": 3
   },
   "file_extension": ".py",
   "mimetype": "text/x-python",
   "name": "python",
   "nbconvert_exporter": "python",
   "pygments_lexer": "ipython3",
   "version": "3.9.15"
  }
 },
 "nbformat": 4,
 "nbformat_minor": 2
}
