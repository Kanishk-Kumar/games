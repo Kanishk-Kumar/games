{
 "cells": [
  {
   "cell_type": "markdown",
   "metadata": {},
   "source": [
    "# LRU Cache"
   ]
  },
  {
   "cell_type": "code",
   "execution_count": null,
   "metadata": {},
   "outputs": [],
   "source": [
    "class Node:\n",
    "    def __init__(self, key, val):\n",
    "        self.key, self.val = key, val\n",
    "        self.prev = self.next = None\n",
    "\n",
    "\n",
    "class LRUCache:\n",
    "    def __init__(self, capacity: int):\n",
    "        self.cap = capacity\n",
    "        self.cache = {}  # map key to node\n",
    "\n",
    "        self.left, self.right = Node(0, 0), Node(0, 0)\n",
    "        self.left.next, self.right.prev = self.right, self.left\n",
    "\n",
    "    # remove node from list\n",
    "    def remove(self, node):\n",
    "        prev, nxt = node.prev, node.next\n",
    "        prev.next, nxt.prev = nxt, prev\n",
    "\n",
    "    # insert node at right\n",
    "    def insert(self, node):\n",
    "        prev, nxt = self.right.prev, self.right\n",
    "        prev.next = nxt.prev = node\n",
    "        node.next, node.prev = nxt, prev\n",
    "\n",
    "    def get(self, key: int) -> int:\n",
    "        if key in self.cache:\n",
    "            self.remove(self.cache[key])\n",
    "            self.insert(self.cache[key])\n",
    "            return self.cache[key].val\n",
    "        return -1\n",
    "\n",
    "    def put(self, key: int, value: int) -> None:\n",
    "        if key in self.cache:\n",
    "            self.remove(self.cache[key])\n",
    "        self.cache[key] = Node(key, value)\n",
    "        self.insert(self.cache[key])\n",
    "\n",
    "        if len(self.cache) > self.cap:\n",
    "            # remove from the list and delete the LRU from hashmap\n",
    "            lru = self.left.next\n",
    "            self.remove(lru)\n",
    "            del self.cache[lru.key]"
   ]
  },
  {
   "cell_type": "code",
   "execution_count": null,
   "metadata": {},
   "outputs": [],
   "source": [
    "lst1 = [\"LRUCache\", \"put\", \"put\", \"get\", \"put\", \"get\", \"put\", \"get\", \"get\", \"get\"]\n",
    "lst2 = [[2], [1, 1], [2, 2], [1], [3, 3], [2], [4, 4], [1], [3], [4]]\n",
    "\n",
    "for i, j in zip(lst1, lst2):\n",
    "    print(i, j)"
   ]
  },
  {
   "cell_type": "code",
   "execution_count": null,
   "metadata": {},
   "outputs": [],
   "source": [
    "machine = LRUCache(2)\n",
    "print(\"machine.put(1, 1)\")\n",
    "print(machine.put(1, 1))\n",
    "print(\"machine.put(2, 2)\")\n",
    "print(machine.put(2, 2))\n",
    "print(\"machine.get(1)\")\n",
    "print(machine.get(1))\n",
    "print(\"machine.put(3, 3)\")\n",
    "print(machine.put(3, 3))\n",
    "print(\"machine.get(1)\")\n",
    "print(machine.get(1))\n",
    "print(\"machine.get(2)\")\n",
    "print(machine.get(2))\n",
    "print(\"machine.put(4, 4)\")\n",
    "print(machine.put(4, 4))\n",
    "print(\"machine.get(1)\")\n",
    "print(machine.get(1))\n",
    "print(\"machine.get(3)\")\n",
    "print(machine.get(3))\n",
    "print(\"machine.get(4)\")\n",
    "print(machine.get(4))"
   ]
  },
  {
   "cell_type": "code",
   "execution_count": null,
   "metadata": {},
   "outputs": [],
   "source": [
    "machine = LRUCache(2)\n",
    "print(\"machine.put(1, 1)\")\n",
    "print(machine.put(1, 1))\n",
    "print(\"machine.put(2, 2)\")\n",
    "print(machine.put(2, 2))\n",
    "print(\"machine.get(2)\")\n",
    "print(machine.get(2))\n",
    "print(\"machine.put(3, 3)\")\n",
    "print(machine.put(3, 3))\n",
    "print(\"machine.get(1)\")\n",
    "print(machine.get(1))\n",
    "print(\"machine.get(2)\")\n",
    "print(machine.get(2))\n",
    "print(\"machine.put(4, 4)\")\n",
    "print(machine.put(4, 4))\n",
    "print(\"machine.get(1)\")\n",
    "print(machine.get(1))\n",
    "print(\"machine.get(3)\")\n",
    "print(machine.get(3))\n",
    "print(\"machine.get(4)\")\n",
    "print(machine.get(4))"
   ]
  },
  {
   "cell_type": "markdown",
   "metadata": {},
   "source": [
    "# Least Common Subsequence"
   ]
  },
  {
   "cell_type": "code",
   "execution_count": null,
   "metadata": {},
   "outputs": [],
   "source": [
    "def longest_common_subsequence(str1, str2):\n",
    "    m, n = len(str1), len(str2)\n",
    "    dp = [[0] * (m + 1) for _ in range(n + 1)]\n",
    "    for i in dp:\n",
    "        print(i)\n",
    "    print(\"\")\n",
    "    for i in range(1, m + 1):\n",
    "        for j in range(1, n + 1):\n",
    "            print(\"      \" + \"  \".join(list(str2)))\n",
    "            if str1[i - 1] == str2[j - 1]:\n",
    "                dp[i][j] = dp[i - 1][j - 1] + 1\n",
    "            else:\n",
    "                dp[i][j] = max(dp[i - 1][j], dp[i][j - 1])\n",
    "            for R in range(len(dp)):\n",
    "                if R != 0:\n",
    "                    print(str(str1[R - 1]) + \" \" + str(dp[R]))\n",
    "                else:\n",
    "                    print(\" \" + \" \" + str(dp[R]))\n",
    "            print(\"\")\n",
    "    i, j = m, n\n",
    "    lcs = []\n",
    "\n",
    "    while i > 0 and j > 0:\n",
    "        if str1[i - 1] == str2[j - 1]:\n",
    "            lcs.append(str1[i - 1])\n",
    "            i -= 1\n",
    "            j -= 1\n",
    "        elif dp[i - 1][j] > dp[i][j - 1]:\n",
    "            print(\"Large:\" + str(dp[i - 1][j]))\n",
    "            i -= 1\n",
    "        else:\n",
    "            print(\"Small: \" + str(dp[i][j - 1]))\n",
    "            j -= 1\n",
    "\n",
    "    return \"\".join(reversed(lcs))\n",
    "\n",
    "\n",
    "string1 = \"TXMJYAUZ\"\n",
    "string2 = \"TMZJAWXU\"\n",
    "\n",
    "longest_common_subsequence(string1, string2)"
   ]
  },
  {
   "cell_type": "code",
   "execution_count": null,
   "metadata": {},
   "outputs": [],
   "source": [
    "def longest_common_subsequence(str1, str2):\n",
    "    \n",
    "    m, n = len(str1), len(str2)\n",
    "    dp = [[0] * (n + 1) for _ in range(m + 1)]\n",
    "\n",
    "    for i in range(1, m + 1):\n",
    "        for j in range(1, n + 1):\n",
    "            if str1[i - 1] == str2[j - 1]:\n",
    "                dp[i][j] = dp[i - 1][j - 1] + 1\n",
    "            else:\n",
    "                dp[i][j] = max(dp[i - 1][j], dp[i][j - 1])\n",
    "\n",
    "    i, j = m, n\n",
    "    lcs = []\n",
    "\n",
    "    while i > 0 and j > 0:\n",
    "        if str1[i - 1] == str2[j - 1]:\n",
    "            lcs.append(str1[i - 1])\n",
    "            i -= 1\n",
    "            j -= 1\n",
    "        elif dp[i - 1][j] > dp[i][j - 1]:\n",
    "            i -= 1\n",
    "        else:\n",
    "            j -= 1\n",
    "    return \"\".join(reversed(lcs))\n",
    "\n",
    "\n",
    "string1 = \"TXMJYAUZ\"\n",
    "string2 = \"TMZJAWXU\"\n",
    "\n",
    "longest_common_subsequence(string1, string2)"
   ]
  },
  {
   "cell_type": "markdown",
   "metadata": {},
   "source": [
    "# Valid Anagram\n",
    "https://leetcode.com/problems/valid-anagram/"
   ]
  },
  {
   "cell_type": "code",
   "execution_count": null,
   "metadata": {},
   "outputs": [],
   "source": [
    "from collections import Counter\n",
    "\n",
    "\n",
    "class Solution:\n",
    "    def isAnagram(self, s: str, t: str) -> bool:\n",
    "        return sorted(s) == sorted(t)\n",
    "    \n",
    "    def isAnagram_0(self, s: str, t: str) -> bool:\n",
    "        return Counter(s) == Counter(t)\n",
    "    \n",
    "    def isAnagram_1(self, s: str, t: str) -> bool:\n",
    "        if len(s) != len(t):\n",
    "            return False\n",
    "        countS, countT = {}, {}\n",
    "        for i in range(len(s)):\n",
    "            countS[s[i]] = 1 + countS.get(s[i], 0)\n",
    "            countT[t[i]] = 1 + countT.get(t[i], 0)\n",
    "            print(countS)\n",
    "            print(countT)\n",
    "            print('')\n",
    "        return countS == countT\n",
    "    \n",
    "\n",
    "\n",
    "s = \"anagram\"\n",
    "t = \"nagaram\"\n",
    "solve = Solution()\n",
    "solve.isAnagram_1(s, t)"
   ]
  },
  {
   "cell_type": "markdown",
   "metadata": {},
   "source": [
    "# Two Sum\n",
    "https://leetcode.com/problems/two-sum/"
   ]
  },
  {
   "cell_type": "code",
   "execution_count": null,
   "metadata": {},
   "outputs": [],
   "source": [
    "class Solution:\n",
    "    def twoSum(self, nums: list[int], target: int) -> list[int]:\n",
    "        prevmap = {}\n",
    "        for i, j in enumerate(nums):\n",
    "            print(f\"j = {j}, i = {i}\")\n",
    "            diff = target - j\n",
    "            if diff in prevmap:\n",
    "                print(f\"{diff} in {prevmap}\")\n",
    "                return [prevmap[diff], i]\n",
    "            prevmap[j] = i\n",
    "            print(str(prevmap) + \"\\n\")\n",
    "\n",
    "\n",
    "sol = Solution()\n",
    "sol.twoSum([2, 7, 11, 15, 4], 15)"
   ]
  },
  {
   "cell_type": "markdown",
   "metadata": {},
   "source": [
    "# Maximum Subarray\n",
    "https://leetcode.com/problems/maximum-subarray/"
   ]
  },
  {
   "cell_type": "code",
   "execution_count": null,
   "metadata": {},
   "outputs": [],
   "source": [
    "class Solution:\n",
    "    def maxSubArray(self, nums: list[int]) -> int:\n",
    "        res = nums[0]\n",
    "        total = 0\n",
    "        for i in nums:\n",
    "            total += i\n",
    "            print(f\"Total: {total}\")\n",
    "            print(f\"Result: {res}\")\n",
    "            res = max(res, total)\n",
    "            print(f\"Final Result: {res}\")\n",
    "            print(\"\")\n",
    "            if total < 0:\n",
    "                total = 0\n",
    "        return res\n",
    "\n",
    "\n",
    "sol = Solution()\n",
    "sol.maxSubArray([-2, 1, -3, 4, -1, 2, 1, -5, 4])"
   ]
  },
  {
   "cell_type": "markdown",
   "metadata": {},
   "source": [
    "# Two Sum II (Sorted array)\n",
    "https://leetcode.com/problems/two-sum-ii-input-array-is-sorted/"
   ]
  },
  {
   "cell_type": "code",
   "execution_count": null,
   "metadata": {},
   "outputs": [],
   "source": [
    "numbers = [2,7,11,15]\n",
    "target = 9\n",
    "\n",
    "class Solution:\n",
    "    def twoSum(self, numbers: list[int], target: int) -> list[int]:\n",
    "        l, r = 0, len(numbers)-1\n",
    "        while l < r:\n",
    "            curSum = numbers[l] + numbers[r]\n",
    "            if curSum < target:\n",
    "                l += 1\n",
    "            elif curSum > target:\n",
    "                r -= 1\n",
    "            elif curSum == target:\n",
    "                return [l+1, r+1]\n",
    "\n",
    "\n",
    "sol = Solution()\n",
    "sol.twoSum(numbers, target)"
   ]
  },
  {
   "cell_type": "markdown",
   "metadata": {},
   "source": [
    "# House Robber\n",
    "https://leetcode.com/problems/house-robber/"
   ]
  },
  {
   "cell_type": "code",
   "execution_count": null,
   "metadata": {},
   "outputs": [],
   "source": [
    "class Solution:\n",
    "    def rob(self, nums: list[int]) -> int:\n",
    "        rob1, rob2 = 0, 0\n",
    "\n",
    "        for n in nums:\n",
    "            temp = max(n + rob1, rob2)\n",
    "            print(nums)\n",
    "            print(f\"n: {n}\")\n",
    "            print(f\"temp: {temp} max(n + rob1 = {n + rob1}, rob2: {rob2})\")\n",
    "            rob1 = rob2\n",
    "            rob2 = temp\n",
    "            print(f\"rob1: {rob1}, rob2: {rob2}\\n\")\n",
    "        return rob2\n",
    "\n",
    "\n",
    "nums = [9, 4, 1, 15, 3, 2, 14]\n",
    "sol = Solution()\n",
    "sol.rob(nums)"
   ]
  },
  {
   "cell_type": "code",
   "execution_count": null,
   "metadata": {},
   "outputs": [],
   "source": [
    "class Solution:\n",
    "    def rob(self, nums: list[int]) -> int:\n",
    "        rob1, rob2 = 0, 0\n",
    "\n",
    "        for n in nums:\n",
    "            temp = max(n + rob1, rob2)\n",
    "            print(nums)\n",
    "            print(f\"n: {n}\")\n",
    "            print(f\"temp: {temp} max(n + rob1 = {n + rob1}, rob2: {rob2})\")\n",
    "            rob1 = rob2\n",
    "            rob2 = temp\n",
    "            print(f\"rob1: {rob1}, rob2: {rob2}\\n\")\n",
    "        return rob2\n",
    "\n",
    "\n",
    "nums = [0, 7, 18, 1]\n",
    "sol = Solution()\n",
    "sol.rob(nums)"
   ]
  },
  {
   "cell_type": "markdown",
   "metadata": {},
   "source": [
    "# Merge Two Sorted Lists\n",
    "https://leetcode.com/problems/merge-two-sorted-lists/"
   ]
  },
  {
   "cell_type": "code",
   "execution_count": 6,
   "metadata": {},
   "outputs": [
    {
     "name": "stdout",
     "output_type": "stream",
     "text": [
      "[1, 2, 4]\n",
      "[1, 3, 4]\n",
      "[0]\n",
      "\n",
      "[1, 2, 4]\n",
      "[3, 4]\n",
      "[0, 1, 3, 4]\n",
      "\n",
      "[2, 4]\n",
      "[3, 4]\n",
      "[0, 1, 1, 2, 4]\n",
      "\n",
      "[4]\n",
      "[3, 4]\n",
      "[0, 1, 1, 2, 4]\n",
      "\n",
      "[4]\n",
      "[4]\n",
      "[0, 1, 1, 2, 3, 4]\n",
      "\n"
     ]
    },
    {
     "data": {
      "text/plain": [
       "[1, 1, 2, 3, 4, 4]"
      ]
     },
     "execution_count": 6,
     "metadata": {},
     "output_type": "execute_result"
    }
   ],
   "source": [
    "# Definition for singly-linked list.\n",
    "class ListNode:\n",
    "    def __init__(self, val=0, next=None):\n",
    "        self.val = val\n",
    "        self.next = next\n",
    "\n",
    "\n",
    "# Iterative\n",
    "class Solution_1:\n",
    "    def mergeTwoLists(self, list1: ListNode, list2: ListNode) -> ListNode:\n",
    "        dummy = node = ListNode()\n",
    "        while list1 and list2:\n",
    "            print(linked_list_to_list(list1))\n",
    "            print(linked_list_to_list(list2))\n",
    "            print(linked_list_to_list(dummy))\n",
    "            print('')\n",
    "            if list1.val < list2.val:\n",
    "                node.next = list1\n",
    "                list1 = list1.next\n",
    "            else:\n",
    "                node.next = list2\n",
    "                list2 = list2.next\n",
    "            node = node.next\n",
    "        node.next = list1 or list2\n",
    "        return dummy.next\n",
    "\n",
    "\n",
    "# Recursive\n",
    "class Solution_2:\n",
    "    def mergeTwoLists(self, list1: ListNode, list2: ListNode) -> ListNode:\n",
    "        if not list1:\n",
    "            return list2\n",
    "        if not list2:\n",
    "            return list1\n",
    "        lil, big = (list1, list2) if list1.val < list2.val else (list2, list1)\n",
    "        lil.next = self.mergeTwoLists(lil.next, big)\n",
    "        return lil\n",
    "\n",
    "\n",
    "# Function to convert a list to a linked list\n",
    "def list_to_linked_list(lst):\n",
    "    dummy = ListNode()\n",
    "    node = dummy\n",
    "    for val in lst:\n",
    "        node.next = ListNode(val)\n",
    "        node = node.next\n",
    "    return dummy.next\n",
    "\n",
    "\n",
    "# Function to convert a linked list to a list\n",
    "def linked_list_to_list(node):\n",
    "    lst = []\n",
    "    while node:\n",
    "        lst.append(node.val)\n",
    "        node = node.next\n",
    "    return lst\n",
    "\n",
    "\n",
    "lst1 = [1, 2, 4]\n",
    "lst2 = [1, 3, 4]\n",
    "\n",
    "lst1 = list_to_linked_list(lst1)\n",
    "lst2 = list_to_linked_list(lst2)\n",
    "\n",
    "sol = Solution_1()\n",
    "res = sol.mergeTwoLists(lst1, lst2)\n",
    "linked_list_to_list(res)"
   ]
  },
  {
   "cell_type": "code",
   "execution_count": 2,
   "metadata": {},
   "outputs": [
    {
     "name": "stdout",
     "output_type": "stream",
     "text": [
      "1\n",
      "1\n",
      "2\n",
      "3\n",
      "4\n",
      "4\n"
     ]
    }
   ],
   "source": [
    "from time import sleep\n",
    "\n",
    "while res:\n",
    "    print(res.val)\n",
    "    res = res.next\n",
    "    sleep(1)"
   ]
  },
  {
   "cell_type": "markdown",
   "metadata": {},
   "source": [
    "# Best Time to Buy and Sell Stock\n",
    "https://leetcode.com/problems/best-time-to-buy-and-sell-stock/description/"
   ]
  },
  {
   "cell_type": "code",
   "execution_count": 4,
   "metadata": {},
   "outputs": [
    {
     "name": "stdout",
     "output_type": "stream",
     "text": [
      "[7, 1, 5, 3, 6, 4]\n",
      "res=0, lowest=7, price=7\n",
      "\n",
      "[7, 1, 5, 3, 6, 4]\n",
      "res=0, lowest=7, price=1\n",
      "\n",
      "[7, 1, 5, 3, 6, 4]\n",
      "res=0, lowest=1, price=5\n",
      "\n",
      "[7, 1, 5, 3, 6, 4]\n",
      "res=4, lowest=1, price=3\n",
      "\n",
      "[7, 1, 5, 3, 6, 4]\n",
      "res=4, lowest=1, price=6\n",
      "\n",
      "[7, 1, 5, 3, 6, 4]\n",
      "res=5, lowest=1, price=4\n",
      "\n"
     ]
    },
    {
     "data": {
      "text/plain": [
       "5"
      ]
     },
     "execution_count": 4,
     "metadata": {},
     "output_type": "execute_result"
    }
   ],
   "source": [
    "class Solution:\n",
    "    def maxProfit(self, prices: list[int]) -> int:\n",
    "        res = 0\n",
    "        lowest = prices[0]\n",
    "        for price in prices:\n",
    "            print(prices)\n",
    "            print(f\"res={res}, lowest={lowest}, price={price}\\n\")\n",
    "            if price < lowest:\n",
    "                lowest = price\n",
    "            res = max(res, price - lowest)\n",
    "        return res\n",
    "\n",
    "\n",
    "sol = Solution()\n",
    "sol.maxProfit([7,1,5,3,6,4])"
   ]
  },
  {
   "cell_type": "markdown",
   "metadata": {},
   "source": [
    "# Another!"
   ]
  },
  {
   "cell_type": "code",
   "execution_count": null,
   "metadata": {},
   "outputs": [],
   "source": []
  }
 ],
 "metadata": {
  "kernelspec": {
   "display_name": "myenv",
   "language": "python",
   "name": "python3"
  },
  "language_info": {
   "codemirror_mode": {
    "name": "ipython",
    "version": 3
   },
   "file_extension": ".py",
   "mimetype": "text/x-python",
   "name": "python",
   "nbconvert_exporter": "python",
   "pygments_lexer": "ipython3",
   "version": "3.9.15"
  }
 },
 "nbformat": 4,
 "nbformat_minor": 2
}
